{
 "cells": [
  {
   "cell_type": "markdown",
   "id": "97ae61f3",
   "metadata": {},
   "source": [
    "<img style=\"float: left; margin: 30px 15px 15px 15px;\" src=\"https://pngimage.net/wp-content/uploads/2018/06/logo-iteso-png-5.png\" width=\"300\" height=\"500\" /> \n",
    "    \n",
    "    \n",
    "### <font color='navy'> Simulación de procesos financieros. \n",
    "\n",
    "**Nombres:**  Iván Lafárga Lizárraga | Daniela Michel Mercado </span>\n",
    "\n",
    "**Fecha:** 25 de Noviembre del 2021.  \n",
    "\n",
    "**Expediente** :  708989 |  723489 \n",
    "\n",
    "**Profesor:** Oscar David Jaramillo Zuluaga.\n",
    "\n",
    "# Tarea 10: Clase 24\n",
    "    \n",
    "### https://github.com/ivanLafarga/Tarea10_JILafarga_DMichel"
   ]
  },
  {
   "cell_type": "markdown",
   "id": "ad870c9f",
   "metadata": {},
   "source": [
    "Realizar la valuación de las opciones barrera para las acciones de Microsoft, siguiendo los siguientes lineamientos:\n",
    "1. Realizar la valuación para el tipo de opción barrera 'CALL'- down-and-out, usando la suposición de rendimientos normales y usando el método del histograma. Para ambas valuaciones, comparar los resultados de la evaluación obtenida con los resultados obtenidos por la valuación Europea. Como se realizó en clase.\n",
    "2. Repetir el inciso anterior pero en esta ocasión para el caso de 'PUT'- Up-and-out.\n",
    "\n",
    "**Nota:** Analice los datos descargados y según el método ya sea `down-and-out` o `Up-and-out` defina un strike price usando la volatility smile vista en la clase de opciones europeas y basado en el spot price y el strike defina una barrera adecuada.\n",
    "\n",
    "Se habilitará un enlace en canvas para subir un cuaderno de python, con la solución.\n",
    "\n",
    "**Criterio de revisión.**\n",
    "\n",
    "> Se te calificará de acuerdo a los resultados finales que reportes, basados en tu análisis."
   ]
  },
  {
   "cell_type": "code",
   "execution_count": null,
   "id": "aeb4476d",
   "metadata": {},
   "outputs": [],
   "source": []
  }
 ],
 "metadata": {
  "kernelspec": {
   "display_name": "Python 3",
   "language": "python",
   "name": "python3"
  },
  "language_info": {
   "codemirror_mode": {
    "name": "ipython",
    "version": 3
   },
   "file_extension": ".py",
   "mimetype": "text/x-python",
   "name": "python",
   "nbconvert_exporter": "python",
   "pygments_lexer": "ipython3",
   "version": "3.8.8"
  }
 },
 "nbformat": 4,
 "nbformat_minor": 5
}
